{
 "cells": [
  {
   "cell_type": "markdown",
   "id": "80635a2e-9ec2-4cd9-ac8c-65080940ba5c",
   "metadata": {},
   "source": [
    "# My Client: \n",
    "**Timothy Stevens: Seller**\n",
    "  - Owns expensive houses in the center\n",
    "  - Needs to get rid\n",
    "  - Best timing within a year\n",
    "  - Open for renovation when profits rise"
   ]
  },
  {
   "cell_type": "code",
   "execution_count": null,
   "id": "fc3f293e-eaed-4c43-a5e4-ff2c6ee3fe81",
   "metadata": {},
   "outputs": [],
   "source": []
  }
 ],
 "metadata": {
  "kernelspec": {
   "display_name": "Python 3 (ipykernel)",
   "language": "python",
   "name": "python3"
  },
  "language_info": {
   "codemirror_mode": {
    "name": "ipython",
    "version": 3
   },
   "file_extension": ".py",
   "mimetype": "text/x-python",
   "name": "python",
   "nbconvert_exporter": "python",
   "pygments_lexer": "ipython3",
   "version": "3.11.3"
  }
 },
 "nbformat": 4,
 "nbformat_minor": 5
}

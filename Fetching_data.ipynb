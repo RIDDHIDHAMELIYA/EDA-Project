{
 "cells": [
  {
   "cell_type": "markdown",
   "id": "bc67b02b-9411-455d-b057-2cf329e2f50d",
   "metadata": {},
   "source": [
    "## Importing Necessary Libraries:"
   ]
  },
  {
   "cell_type": "code",
   "execution_count": 1,
   "id": "a2ba140b-856d-4d71-adec-69d460bbd277",
   "metadata": {},
   "outputs": [],
   "source": [
    "import os\n",
    "import pandas as pd\n",
    "from dotenv import load_dotenv\n",
    "from sqlalchemy import create_engine\n",
    "import psycopg2"
   ]
  },
  {
   "cell_type": "markdown",
   "id": "9d2e1059-9efc-4b0e-b754-69fda141d3c9",
   "metadata": {},
   "source": [
    "## Loading Environment Variables"
   ]
  },
  {
   "cell_type": "code",
   "execution_count": 2,
   "id": "c036abf5-680f-4b61-9f96-46e4cbf0fd3f",
   "metadata": {
    "tags": []
   },
   "outputs": [
    {
     "data": {
      "text/plain": [
       "True"
      ]
     },
     "execution_count": 2,
     "metadata": {},
     "output_type": "execute_result"
    }
   ],
   "source": [
    "# Load environment variables\n",
    "\n",
    "load_dotenv()"
   ]
  },
  {
   "cell_type": "markdown",
   "id": "b92f6301-6a19-4a05-9e76-5616f5508cf7",
   "metadata": {},
   "source": [
    "## Setting Database Configuration:"
   ]
  },
  {
   "cell_type": "code",
   "execution_count": 3,
   "id": "4e24a4a4-6bf5-4dbf-af27-0b65a2acca92",
   "metadata": {
    "tags": []
   },
   "outputs": [],
   "source": [
    "# PostgreSQL database configuration\n",
    "\n",
    "DATABASE = os.getenv('DATABASE')\n",
    "USER_DB = os.getenv('USER_DB')\n",
    "PASSWORD = os.getenv('PASSWORD')\n",
    "HOST = os.getenv('HOST')\n",
    "PORT = os.getenv('PORT')"
   ]
  },
  {
   "cell_type": "markdown",
   "id": "da11d482-10fd-4083-93d1-0c9322b4df5a",
   "metadata": {},
   "source": [
    "## Connecting to PostgreSQL Database using psycopg2:"
   ]
  },
  {
   "cell_type": "code",
   "execution_count": 4,
   "id": "447f79bb-033b-4d71-823d-5909474c4748",
   "metadata": {
    "tags": []
   },
   "outputs": [],
   "source": [
    "# Create connection object conn\n",
    "\n",
    "conn = psycopg2.connect(\n",
    "    database=DATABASE,\n",
    "    user=USER_DB,\n",
    "    password=PASSWORD,\n",
    "    host=HOST,\n",
    "    port=PORT\n",
    ")"
   ]
  },
  {
   "cell_type": "markdown",
   "id": "eb500289-9711-464c-84da-0d188abfbd56",
   "metadata": {
    "tags": []
   },
   "source": [
    "## Querying Data from Database using psycopg2: "
   ]
  },
  {
   "cell_type": "code",
   "execution_count": 5,
   "id": "b2483654-6d61-468b-ad6b-b6b27e94f4e2",
   "metadata": {
    "tags": []
   },
   "outputs": [
    {
     "name": "stderr",
     "output_type": "stream",
     "text": [
      "/var/folders/99/p07pc0w96zb00mqvb254xrqc0000gn/T/ipykernel_39302/169428068.py:4: UserWarning: pandas only supports SQLAlchemy connectable (engine/connection) or database string URI or sqlite3 DBAPI2 connection. Other DBAPI2 objects are not tested. Please consider using SQLAlchemy.\n",
      "  df_psycopg = pd.read_sql(query_string, conn)\n"
     ]
    }
   ],
   "source": [
    "#import data into pandas data frame\n",
    "\n",
    "query_string = \"SELECT * FROM eda.king_county_house_details JOIN eda.king_county_house_sales ON king_county_house_details.id = king_county_house_sales.house_id ;\"\n",
    "df_psycopg = pd.read_sql(query_string, conn)\n"
   ]
  },
  {
   "cell_type": "code",
   "execution_count": 6,
   "id": "0712bab9-2fc2-4cef-8748-22dc75ad0e9d",
   "metadata": {
    "tags": []
   },
   "outputs": [],
   "source": [
    "conn.close()"
   ]
  },
  {
   "cell_type": "markdown",
   "id": "afba0bb0-36a2-4dc1-b5b7-27b62367a7dc",
   "metadata": {},
   "source": [
    "## Exporting Data to CSV"
   ]
  },
  {
   "cell_type": "code",
   "execution_count": 8,
   "id": "fcacfae8-2b31-46a1-919a-1147abd833d6",
   "metadata": {
    "tags": []
   },
   "outputs": [],
   "source": [
    "df_psycopg.to_csv('data/eda.csv', index=False)"
   ]
  },
  {
   "cell_type": "markdown",
   "id": "e83c2eed-44e8-408a-8364-4e4b40d22c88",
   "metadata": {},
   "source": [
    "## Read Export file from data folder"
   ]
  },
  {
   "cell_type": "code",
   "execution_count": 9,
   "id": "9c882f18-7cd8-45eb-ae2d-1af0512201cb",
   "metadata": {
    "tags": []
   },
   "outputs": [],
   "source": [
    "df = pd.read_csv('data/eda.csv')"
   ]
  },
  {
   "cell_type": "code",
   "execution_count": 13,
   "id": "55eef154-2ea6-4527-a685-ba0a2f1cc607",
   "metadata": {
    "tags": []
   },
   "outputs": [
    {
     "data": {
      "text/html": [
       "<div>\n",
       "<style scoped>\n",
       "    .dataframe tbody tr th:only-of-type {\n",
       "        vertical-align: middle;\n",
       "    }\n",
       "\n",
       "    .dataframe tbody tr th {\n",
       "        vertical-align: top;\n",
       "    }\n",
       "\n",
       "    .dataframe thead th {\n",
       "        text-align: right;\n",
       "    }\n",
       "</style>\n",
       "<table border=\"1\" class=\"dataframe\">\n",
       "  <thead>\n",
       "    <tr style=\"text-align: right;\">\n",
       "      <th></th>\n",
       "      <th>id</th>\n",
       "      <th>bedrooms</th>\n",
       "      <th>bathrooms</th>\n",
       "      <th>sqft_living</th>\n",
       "      <th>sqft_lot</th>\n",
       "      <th>floors</th>\n",
       "      <th>waterfront</th>\n",
       "      <th>view</th>\n",
       "      <th>condition</th>\n",
       "      <th>grade</th>\n",
       "      <th>...</th>\n",
       "      <th>yr_built</th>\n",
       "      <th>yr_renovated</th>\n",
       "      <th>zipcode</th>\n",
       "      <th>lat</th>\n",
       "      <th>long</th>\n",
       "      <th>sqft_living15</th>\n",
       "      <th>sqft_lot15</th>\n",
       "      <th>date</th>\n",
       "      <th>price</th>\n",
       "      <th>house_id</th>\n",
       "    </tr>\n",
       "  </thead>\n",
       "  <tbody>\n",
       "    <tr>\n",
       "      <th>0</th>\n",
       "      <td>1</td>\n",
       "      <td>3.0</td>\n",
       "      <td>1.00</td>\n",
       "      <td>1180.0</td>\n",
       "      <td>5650.0</td>\n",
       "      <td>1.0</td>\n",
       "      <td>NaN</td>\n",
       "      <td>0.0</td>\n",
       "      <td>3</td>\n",
       "      <td>7</td>\n",
       "      <td>...</td>\n",
       "      <td>1955</td>\n",
       "      <td>0.0</td>\n",
       "      <td>98178</td>\n",
       "      <td>47.5112</td>\n",
       "      <td>-122.257</td>\n",
       "      <td>1340.0</td>\n",
       "      <td>5650.0</td>\n",
       "      <td>2014-10-13</td>\n",
       "      <td>221900.0</td>\n",
       "      <td>7129300520</td>\n",
       "    </tr>\n",
       "    <tr>\n",
       "      <th>1</th>\n",
       "      <td>2</td>\n",
       "      <td>3.0</td>\n",
       "      <td>2.25</td>\n",
       "      <td>2570.0</td>\n",
       "      <td>7242.0</td>\n",
       "      <td>2.0</td>\n",
       "      <td>0.0</td>\n",
       "      <td>0.0</td>\n",
       "      <td>3</td>\n",
       "      <td>7</td>\n",
       "      <td>...</td>\n",
       "      <td>1951</td>\n",
       "      <td>19910.0</td>\n",
       "      <td>98125</td>\n",
       "      <td>47.7210</td>\n",
       "      <td>-122.319</td>\n",
       "      <td>1690.0</td>\n",
       "      <td>7639.0</td>\n",
       "      <td>2014-12-09</td>\n",
       "      <td>538000.0</td>\n",
       "      <td>6414100192</td>\n",
       "    </tr>\n",
       "  </tbody>\n",
       "</table>\n",
       "<p>2 rows × 22 columns</p>\n",
       "</div>"
      ],
      "text/plain": [
       "   id  bedrooms  bathrooms  sqft_living  sqft_lot  floors  waterfront  view   \n",
       "0   1       3.0       1.00       1180.0    5650.0     1.0         NaN   0.0  \\\n",
       "1   2       3.0       2.25       2570.0    7242.0     2.0         0.0   0.0   \n",
       "\n",
       "   condition  grade  ...  yr_built  yr_renovated  zipcode      lat     long   \n",
       "0          3      7  ...      1955           0.0    98178  47.5112 -122.257  \\\n",
       "1          3      7  ...      1951       19910.0    98125  47.7210 -122.319   \n",
       "\n",
       "   sqft_living15  sqft_lot15        date     price    house_id  \n",
       "0         1340.0      5650.0  2014-10-13  221900.0  7129300520  \n",
       "1         1690.0      7639.0  2014-12-09  538000.0  6414100192  \n",
       "\n",
       "[2 rows x 22 columns]"
      ]
     },
     "execution_count": 13,
     "metadata": {},
     "output_type": "execute_result"
    }
   ],
   "source": [
    "df.head(2)"
   ]
  },
  {
   "cell_type": "code",
   "execution_count": 14,
   "id": "c0d7e638-e704-4166-b253-9fac3ddbf07d",
   "metadata": {
    "tags": []
   },
   "outputs": [
    {
     "data": {
      "text/html": [
       "<div>\n",
       "<style scoped>\n",
       "    .dataframe tbody tr th:only-of-type {\n",
       "        vertical-align: middle;\n",
       "    }\n",
       "\n",
       "    .dataframe tbody tr th {\n",
       "        vertical-align: top;\n",
       "    }\n",
       "\n",
       "    .dataframe thead th {\n",
       "        text-align: right;\n",
       "    }\n",
       "</style>\n",
       "<table border=\"1\" class=\"dataframe\">\n",
       "  <thead>\n",
       "    <tr style=\"text-align: right;\">\n",
       "      <th></th>\n",
       "      <th>id</th>\n",
       "      <th>bedrooms</th>\n",
       "      <th>bathrooms</th>\n",
       "      <th>sqft_living</th>\n",
       "      <th>sqft_lot</th>\n",
       "      <th>floors</th>\n",
       "      <th>waterfront</th>\n",
       "      <th>view</th>\n",
       "      <th>condition</th>\n",
       "      <th>grade</th>\n",
       "      <th>...</th>\n",
       "      <th>yr_built</th>\n",
       "      <th>yr_renovated</th>\n",
       "      <th>zipcode</th>\n",
       "      <th>lat</th>\n",
       "      <th>long</th>\n",
       "      <th>sqft_living15</th>\n",
       "      <th>sqft_lot15</th>\n",
       "      <th>date</th>\n",
       "      <th>price</th>\n",
       "      <th>house_id</th>\n",
       "    </tr>\n",
       "  </thead>\n",
       "  <tbody>\n",
       "    <tr>\n",
       "      <th>21595</th>\n",
       "      <td>21596</td>\n",
       "      <td>3.0</td>\n",
       "      <td>2.50</td>\n",
       "      <td>1600.0</td>\n",
       "      <td>2388.0</td>\n",
       "      <td>2.0</td>\n",
       "      <td>NaN</td>\n",
       "      <td>0.0</td>\n",
       "      <td>3</td>\n",
       "      <td>8</td>\n",
       "      <td>...</td>\n",
       "      <td>2004</td>\n",
       "      <td>0.0</td>\n",
       "      <td>98027</td>\n",
       "      <td>47.5345</td>\n",
       "      <td>-122.069</td>\n",
       "      <td>1410.0</td>\n",
       "      <td>1287.0</td>\n",
       "      <td>2015-01-16</td>\n",
       "      <td>400000.0</td>\n",
       "      <td>291310100</td>\n",
       "    </tr>\n",
       "    <tr>\n",
       "      <th>21596</th>\n",
       "      <td>21597</td>\n",
       "      <td>2.0</td>\n",
       "      <td>0.75</td>\n",
       "      <td>1020.0</td>\n",
       "      <td>1076.0</td>\n",
       "      <td>2.0</td>\n",
       "      <td>0.0</td>\n",
       "      <td>0.0</td>\n",
       "      <td>3</td>\n",
       "      <td>7</td>\n",
       "      <td>...</td>\n",
       "      <td>2008</td>\n",
       "      <td>0.0</td>\n",
       "      <td>98144</td>\n",
       "      <td>47.5941</td>\n",
       "      <td>-122.299</td>\n",
       "      <td>1020.0</td>\n",
       "      <td>1357.0</td>\n",
       "      <td>2014-10-15</td>\n",
       "      <td>325000.0</td>\n",
       "      <td>1523300157</td>\n",
       "    </tr>\n",
       "  </tbody>\n",
       "</table>\n",
       "<p>2 rows × 22 columns</p>\n",
       "</div>"
      ],
      "text/plain": [
       "          id  bedrooms  bathrooms  sqft_living  sqft_lot  floors  waterfront   \n",
       "21595  21596       3.0       2.50       1600.0    2388.0     2.0         NaN  \\\n",
       "21596  21597       2.0       0.75       1020.0    1076.0     2.0         0.0   \n",
       "\n",
       "       view  condition  grade  ...  yr_built  yr_renovated  zipcode      lat   \n",
       "21595   0.0          3      8  ...      2004           0.0    98027  47.5345  \\\n",
       "21596   0.0          3      7  ...      2008           0.0    98144  47.5941   \n",
       "\n",
       "          long  sqft_living15  sqft_lot15        date     price    house_id  \n",
       "21595 -122.069         1410.0      1287.0  2015-01-16  400000.0   291310100  \n",
       "21596 -122.299         1020.0      1357.0  2014-10-15  325000.0  1523300157  \n",
       "\n",
       "[2 rows x 22 columns]"
      ]
     },
     "execution_count": 14,
     "metadata": {},
     "output_type": "execute_result"
    }
   ],
   "source": [
    "df.tail(2)"
   ]
  },
  {
   "cell_type": "code",
   "execution_count": null,
   "id": "b23f4b45-8330-43ca-88d6-432840cc25cf",
   "metadata": {},
   "outputs": [],
   "source": []
  }
 ],
 "metadata": {
  "kernelspec": {
   "display_name": "Python 3 (ipykernel)",
   "language": "python",
   "name": "python3"
  },
  "language_info": {
   "codemirror_mode": {
    "name": "ipython",
    "version": 3
   },
   "file_extension": ".py",
   "mimetype": "text/x-python",
   "name": "python",
   "nbconvert_exporter": "python",
   "pygments_lexer": "ipython3",
   "version": "3.11.3"
  }
 },
 "nbformat": 4,
 "nbformat_minor": 5
}
